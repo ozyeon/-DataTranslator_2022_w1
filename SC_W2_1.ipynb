{
  "nbformat": 4,
  "nbformat_minor": 0,
  "metadata": {
    "colab": {
      "name": "SC_W2_1.ipynb",
      "provenance": [],
      "collapsed_sections": [],
      "include_colab_link": true
    },
    "kernelspec": {
      "name": "python3",
      "display_name": "Python 3"
    },
    "language_info": {
      "name": "python"
    }
  },
  "cells": [
    {
      "cell_type": "markdown",
      "metadata": {
        "id": "view-in-github",
        "colab_type": "text"
      },
      "source": [
        "<a href=\"https://colab.research.google.com/github/ozyeon/DataTranslator_2022_w2/blob/main/SC_W2_1.ipynb\" target=\"_parent\"><img src=\"https://colab.research.google.com/assets/colab-badge.svg\" alt=\"Open In Colab\"/></a>"
      ]
    },
    {
      "cell_type": "markdown",
      "source": [
        "# 다양한 분류 모형"
      ],
      "metadata": {
        "id": "oLYXDawe8cFU"
      }
    },
    {
      "cell_type": "code",
      "execution_count": 1,
      "metadata": {
        "id": "FWlc3Ikt7tsm"
      },
      "outputs": [],
      "source": [
        "from sklearn.model_selection import train_test_split\n",
        "from sklearn import preprocessing\n",
        "\n",
        "from sklearn.naive_bayes import MultinomialNB\n",
        "from sklearn import tree\n",
        "from sklearn.ensemble import RandomForestClassifier\n",
        "from sklearn import neighbors\n",
        "from sklearn.svm import SVC\n",
        "\n",
        "import re\n",
        "import numpy as np\n",
        "import pandas as pd\n"
      ]
    },
    {
      "cell_type": "markdown",
      "source": [
        "- logistic regression"
      ],
      "metadata": {
        "id": "JEuWxQM4CgAP"
      }
    },
    {
      "cell_type": "code",
      "source": [
        "from sklearn.datasets import load_wine\n",
        "dataset = load_wine() \n",
        "\n",
        "dataset.keys()\n",
        "dataset['data']\n",
        "dataset['target'] \n",
        "dataset['DESCR']\n",
        "dataset['feature_names']\n",
        "\n",
        "Y=dataset['target']>1\n"
      ],
      "metadata": {
        "id": "dVc1pbJsCgKB"
      },
      "execution_count": null,
      "outputs": []
    },
    {
      "cell_type": "code",
      "source": [
        "import numpy as np\n",
        "from sklearn import model_selection\n",
        "from sklearn.preprocessing import StandardScaler\n",
        "scaler = StandardScaler()\n",
        "features = scaler.fit_transform(dataset['data'])\n",
        "X_train, X_test, Y_train, Y_test = model_selection.train_test_split(features, Y\n",
        ", test_size=0.3)\n",
        "\n",
        "\n",
        "from sklearn import linear_model\n",
        "logistic = linear_model.LogisticRegression()\n",
        "logistic.fit(X_train, Y_train)\n",
        "print(logistic.coef_)\n",
        "print(np.exp(logistic.coef_))\n",
        "print(logistic.score(X_test, Y_test)) #정분류율\n",
        "print(logistic.predict(X_test[1:3,]))\t#테스트셋 첫 두 행에 대한 예측\n",
        "print(logistic.predict_proba(X_test[1:3,]))"
      ],
      "metadata": {
        "id": "qM74INNOCrqe"
      },
      "execution_count": null,
      "outputs": []
    },
    {
      "cell_type": "markdown",
      "source": [
        "- k-NN과 SVM\n",
        "\n",
        "범주형 변수는 k-NN을 사용하면 안됨(거리계산이 안됨).\n",
        "\n",
        "수치형 변수들에 대해서만 거리 계산 가능\n",
        "\n",
        "k값은 홀수"
      ],
      "metadata": {
        "id": "AOvwCUoM8jFe"
      }
    },
    {
      "cell_type": "code",
      "source": [
        "#creditset.csv를 읽으세요\n",
        "csv_data = pd.read_csv(\"creditset.csv\")\n",
        "csv_data.shape\n",
        "csv_data.isnull().mean()"
      ],
      "metadata": {
        "colab": {
          "base_uri": "https://localhost:8080/"
        },
        "id": "6Dd82mjy8jNJ",
        "outputId": "1966ff1d-df5e-40a2-b09e-d20c0505f5a2"
      },
      "execution_count": null,
      "outputs": [
        {
          "output_type": "execute_result",
          "data": {
            "text/plain": [
              "clientid       0.0\n",
              "income         0.0\n",
              "age            0.0\n",
              "loan           0.0\n",
              "LTI            0.0\n",
              "default10yr    0.0\n",
              "dtype: float64"
            ]
          },
          "metadata": {},
          "execution_count": 4
        }
      ]
    },
    {
      "cell_type": "code",
      "source": [
        "X = csv_data[ [\"age\", \"income\", \"loan\"]]\n",
        "y = csv_data.default10yr\n",
        "\n",
        "#Partitioning\n",
        "X_train, X_test, y_train, y_test = train_test_split( X, y, test_size=0.3, random_state=42 )\n",
        "scaler = preprocessing.StandardScaler()\n",
        "X_train = scaler.fit_transform( X_train)\n",
        "X_test  = scaler.fit_transform( X_test  )"
      ],
      "metadata": {
        "id": "YpmAZOHYBo9b"
      },
      "execution_count": null,
      "outputs": []
    },
    {
      "cell_type": "code",
      "source": [
        "#kNN\n",
        "knn = neighbors.KNeighborsClassifier()\n",
        "#n_neighbors, default=5\n",
        "#metric: default \"minkowski\", default이고 p=2로 지정하면 유클리드 거리\n",
        "#n_jobs: numer of parallel jobs, -1이면 컴퓨터 CPU 코어 수로 지정됨\n",
        "\n",
        "knn.fit(X_train, y_train)\n",
        "knn.kneighbors(X_test, return_distance=False)\n",
        "knn.predict_proba(X_test)\n",
        "predicted = knn.predict(X_test)\n",
        "\n",
        "knn.score(X_test, y_test)\n",
        "np.mean( predicted == y_test )\n",
        "\n",
        "#n_neighbors를 11과 21, 31, 41로 바꾸셔서 정분류율을 비교해보세요."
      ],
      "metadata": {
        "colab": {
          "base_uri": "https://localhost:8080/"
        },
        "id": "NNxjY3J4AvF0",
        "outputId": "803dcc1d-019a-4837-d292-53602c851f20"
      },
      "execution_count": null,
      "outputs": [
        {
          "output_type": "execute_result",
          "data": {
            "text/plain": [
              "0.9783333333333334"
            ]
          },
          "metadata": {},
          "execution_count": 7
        }
      ]
    },
    {
      "cell_type": "code",
      "source": [
        "binary = pd.read_csv(\"binary.csv\")\n",
        "scaled = preprocessing.StandardScaler().fit_transform(binary.drop(\"admit\", axis=1))\n",
        "X_train, X_test, y_train, y_test = train_test_split(scaled, binary.admit, test_size=0.2)\n",
        "\n",
        "knn = neighbors.KNeighborsClassifier().fit(X_train, y_train)\n",
        "from sklearn.metrics import classification_report\n",
        "print(classification_report(knn.predict(X_test), y_test))"
      ],
      "metadata": {
        "colab": {
          "base_uri": "https://localhost:8080/"
        },
        "id": "47i0lYe6iF6J",
        "outputId": "f021910d-e115-4126-c41d-9acbcb4ee908"
      },
      "execution_count": 4,
      "outputs": [
        {
          "output_type": "stream",
          "name": "stdout",
          "text": [
            "              precision    recall  f1-score   support\n",
            "\n",
            "           0       0.76      0.66      0.71        59\n",
            "           1       0.31      0.43      0.36        21\n",
            "\n",
            "    accuracy                           0.60        80\n",
            "   macro avg       0.54      0.54      0.53        80\n",
            "weighted avg       0.65      0.60      0.62        80\n",
            "\n"
          ]
        }
      ]
    },
    {
      "cell_type": "code",
      "source": [
        "sp500 = pd.read_csv(\"sp500_tm.csv\")\n",
        "scaled = preprocessing.StandardScaler().fit_transform(sp500.drop(\"Direction\", axis=1))\n",
        "X_train, X_test, y_train, y_test = train_test_split(scaled, sp500.Direction, test_size=0.2)\n",
        "\n",
        "knn = neighbors.KNeighborsClassifier().fit(X_train, y_train)\n",
        "from sklearn.metrics import classification_report\n",
        "print(classification_report(knn.predict(X_test), y_test))"
      ],
      "metadata": {
        "colab": {
          "base_uri": "https://localhost:8080/"
        },
        "id": "kixrXZSEmvNB",
        "outputId": "385209fc-6c79-4c67-f325-367cac824462"
      },
      "execution_count": 6,
      "outputs": [
        {
          "output_type": "stream",
          "name": "stdout",
          "text": [
            "              precision    recall  f1-score   support\n",
            "\n",
            "           0       0.36      0.67      0.47         6\n",
            "           1       0.78      0.50      0.61        14\n",
            "\n",
            "    accuracy                           0.55        20\n",
            "   macro avg       0.57      0.58      0.54        20\n",
            "weighted avg       0.65      0.55      0.57        20\n",
            "\n"
          ]
        }
      ]
    },
    {
      "cell_type": "code",
      "source": [
        "knn = neighbors.KNeighborsClassifier(n_neighbors=5).fit(X_train, y_train)\n",
        "knn.score(X_test, y_test)   # number of neighbors(k값)의 default 값이 5일 때의 정분류\n",
        "\n",
        "for i in [5,7,9,11,13]:\n",
        "  knn = neighbors.KNeighborsClassifier(n_neighbors=i).fit(X_train, y_train)\n",
        "  print(i, knn.score(X_test, y_test))   # number of neighbors의 default 값이 i일 때의 정분류\n",
        "\n",
        "from sklearn.metrics import classification_report\n",
        "# print(classification_report(knn.predict(X_test), y_test))"
      ],
      "metadata": {
        "colab": {
          "base_uri": "https://localhost:8080/"
        },
        "id": "4xC3mF1Nnm6Z",
        "outputId": "9dc5c8c7-8de8-45a7-e3bb-1cf669f344bf"
      },
      "execution_count": 9,
      "outputs": [
        {
          "output_type": "stream",
          "name": "stdout",
          "text": [
            "5 0.55\n",
            "7 0.55\n",
            "9 0.7\n",
            "11 0.7\n",
            "13 0.45\n"
          ]
        }
      ]
    },
    {
      "cell_type": "code",
      "source": [
        "credit = pd.read_csv(\"creditset.csv\", index_col = 0)\n",
        "credit.drop(\"LTI\", axis=1, inplace=True)\n",
        "\n",
        "from sklearn.preprocessing import MinMaxScaler\n",
        "scaled = MinMaxScaler().fit_transform(credit.drop(\"default10yr\", axis=1))\n",
        "\n",
        "X_train, X_test, y_train, y_test = train_test_split(\n",
        "    scaled, credit.default10yr, test_size = 0.2\n",
        ")\n",
        "\n",
        "from sklearn.tree import DecisionTreeClassifier\n",
        "from sklearn.ensemble import RandomForestClassifier\n",
        "\n",
        "model_dt = DecisionTreeClassifier().fit(X_train, y_train)\n",
        "print(\"model dt :\", model_dt.score(X_test, y_test))\n",
        "\n",
        "for i in [50,100,150]:\n",
        "  model_rf = RandomForestClassifier(n_estimators=i).fit(X_train, y_train)\n",
        "  print(i, \"model rf :\", model_rf.score(X_test, y_test))\n",
        "\n",
        "for i in [5,7,9,11]:\n",
        "  model_knn = neighbors.KNeighborsClassifier(i).fit(X_train, y_train)\n",
        "  print(i, \"model knn :\", model_knn.score(X_test, y_test))\n",
        "\n",
        "rf = RandomForestClassifier(n_estimators=50).fit(X_train, y_train)\n",
        "print(\"\\n\", classification_report(rf.predict(X_test), y_test))"
      ],
      "metadata": {
        "colab": {
          "base_uri": "https://localhost:8080/"
        },
        "id": "tfmQFi0ZowRY",
        "outputId": "54d0a0f4-9440-4cf2-f3b4-93fa1454b099"
      },
      "execution_count": 31,
      "outputs": [
        {
          "output_type": "stream",
          "name": "stdout",
          "text": [
            "model dt : 0.965\n",
            "50 model rf : 0.9875\n",
            "100 model rf : 0.9925\n",
            "150 model rf : 0.9875\n",
            "5 model knn : 0.9875\n",
            "7 model knn : 0.9925\n",
            "9 model knn : 0.985\n",
            "11 model knn : 0.985\n",
            "\n",
            "               precision    recall  f1-score   support\n",
            "\n",
            "           0       1.00      0.99      0.99       346\n",
            "           1       0.91      0.98      0.95        54\n",
            "\n",
            "    accuracy                           0.98       400\n",
            "   macro avg       0.96      0.98      0.97       400\n",
            "weighted avg       0.99      0.98      0.99       400\n",
            "\n"
          ]
        }
      ]
    },
    {
      "cell_type": "code",
      "source": [
        "#SVM\n",
        "clf = SVC().fit(X_train, y_train)\n",
        "#C : penalty, default 1.0\n",
        "#kernel: linear, poly, rbf, sigmoid, precomputed, default: rbf\n",
        "#degree: polynmial degree, default 3\n",
        "#gamma: flaot, default auto\n",
        "#probability: boolean, default=FALSE, predict_proba를 사용하게 함\n",
        "#tol: float, default=1e-3\n",
        "\n",
        "predicted = clf.predict(X_test)\n",
        "clf.score(X_test, y_test)"
      ],
      "metadata": {
        "colab": {
          "base_uri": "https://localhost:8080/"
        },
        "id": "yBuqRdR_AvPQ",
        "outputId": "968fad17-27c0-446d-e4c7-25f82db69102"
      },
      "execution_count": 33,
      "outputs": [
        {
          "output_type": "execute_result",
          "data": {
            "text/plain": [
              "0.9825"
            ]
          },
          "metadata": {},
          "execution_count": 33
        }
      ]
    },
    {
      "cell_type": "markdown",
      "source": [
        "- 위의 작업을 DT, RF로도 수행해보세요.(scaling 적용)\n"
      ],
      "metadata": {
        "id": "r5jtQ6SE8oO5"
      }
    },
    {
      "cell_type": "code",
      "source": [
        "dt1 = tree.DecisionTreeClassifier().fit(X_train, y_train)\n",
        "pred = dt1.predict( X_test)\n",
        "np.mean( pred == y_test )\n",
        "\n",
        "rf = RandomForestClassifier(n_estimators=100, oob_score=True, random_state=123456).fit(X_train, y_train)\n",
        "predicted = rf.predict(X_test)\n",
        "np.mean( predicted == y_test )\n",
        "\n"
      ],
      "metadata": {
        "colab": {
          "base_uri": "https://localhost:8080/"
        },
        "id": "n2g7q3My8oW7",
        "outputId": "d16e6c49-c4ee-4e43-e35a-444e3aaf9e08"
      },
      "execution_count": null,
      "outputs": [
        {
          "output_type": "execute_result",
          "data": {
            "text/plain": [
              "0.985"
            ]
          },
          "metadata": {},
          "execution_count": 9
        }
      ]
    },
    {
      "cell_type": "markdown",
      "source": [
        "- 다음 CSV 파일에 대해 DT, RF, kNN, SVM의 성능을 비교해보세요"
      ],
      "metadata": {
        "id": "uI4exBxl9qv0"
      }
    },
    {
      "cell_type": "code",
      "source": [
        "#sp500_tm.csv\n",
        "#4개 변수 중 1~3변수가 X 변수, 4번째가 Y변수\n",
        "#7:3으로 파티셔닝하세요\n",
        "#X변수는 표준화하세요"
      ],
      "metadata": {
        "id": "oq_VMhwv9q3l"
      },
      "execution_count": null,
      "outputs": []
    }
  ]
}